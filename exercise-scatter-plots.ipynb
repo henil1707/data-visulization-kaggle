{
 "cells": [
  {
   "cell_type": "markdown",
   "id": "be917ea7",
   "metadata": {
    "papermill": {
     "duration": 0.010271,
     "end_time": "2022-10-18T06:24:48.602123",
     "exception": false,
     "start_time": "2022-10-18T06:24:48.591852",
     "status": "completed"
    },
    "tags": []
   },
   "source": [
    "**This notebook is an exercise in the [Data Visualization](https://www.kaggle.com/learn/data-visualization) course.  You can reference the tutorial at [this link](https://www.kaggle.com/alexisbcook/scatter-plots).**\n",
    "\n",
    "---\n"
   ]
  },
  {
   "cell_type": "markdown",
   "id": "0f4302dc",
   "metadata": {
    "papermill": {
     "duration": 0.008475,
     "end_time": "2022-10-18T06:24:48.619745",
     "exception": false,
     "start_time": "2022-10-18T06:24:48.611270",
     "status": "completed"
    },
    "tags": []
   },
   "source": [
    "In this exercise, you will use your new knowledge to propose a solution to a real-world scenario.  To succeed, you will need to import data into Python, answer questions using the data, and generate **scatter plots** to understand patterns in the data.\n",
    "\n",
    "## Scenario\n",
    "\n",
    "You work for a major candy producer, and your goal is to write a report that your company can use to guide the design of its next product.  Soon after starting your research, you stumble across this [very interesting dataset](https://fivethirtyeight.com/features/the-ultimate-halloween-candy-power-ranking/) containing results from a fun survey to crowdsource favorite candies.\n",
    "\n",
    "## Setup\n",
    "\n",
    "Run the next cell to import and configure the Python libraries that you need to complete the exercise."
   ]
  },
  {
   "cell_type": "code",
   "execution_count": 1,
   "id": "c0d9b83f",
   "metadata": {
    "execution": {
     "iopub.execute_input": "2022-10-18T06:24:48.639663Z",
     "iopub.status.busy": "2022-10-18T06:24:48.639012Z",
     "iopub.status.idle": "2022-10-18T06:24:49.878110Z",
     "shell.execute_reply": "2022-10-18T06:24:49.876577Z"
    },
    "papermill": {
     "duration": 1.25296,
     "end_time": "2022-10-18T06:24:49.881437",
     "exception": false,
     "start_time": "2022-10-18T06:24:48.628477",
     "status": "completed"
    },
    "tags": []
   },
   "outputs": [
    {
     "name": "stdout",
     "output_type": "stream",
     "text": [
      "Setup Complete\n"
     ]
    }
   ],
   "source": [
    "import pandas as pd\n",
    "pd.plotting.register_matplotlib_converters()\n",
    "import matplotlib.pyplot as plt\n",
    "%matplotlib inline\n",
    "import seaborn as sns\n",
    "print(\"Setup Complete\")"
   ]
  },
  {
   "cell_type": "markdown",
   "id": "fd5a6d9a",
   "metadata": {
    "papermill": {
     "duration": 0.008678,
     "end_time": "2022-10-18T06:24:49.899399",
     "exception": false,
     "start_time": "2022-10-18T06:24:49.890721",
     "status": "completed"
    },
    "tags": []
   },
   "source": [
    "The questions below will give you feedback on your work. Run the following cell to set up our feedback system."
   ]
  },
  {
   "cell_type": "code",
   "execution_count": 2,
   "id": "91a304de",
   "metadata": {
    "execution": {
     "iopub.execute_input": "2022-10-18T06:24:49.919065Z",
     "iopub.status.busy": "2022-10-18T06:24:49.918652Z",
     "iopub.status.idle": "2022-10-18T06:24:49.990884Z",
     "shell.execute_reply": "2022-10-18T06:24:49.989391Z"
    },
    "papermill": {
     "duration": 0.085837,
     "end_time": "2022-10-18T06:24:49.994088",
     "exception": false,
     "start_time": "2022-10-18T06:24:49.908251",
     "status": "completed"
    },
    "tags": []
   },
   "outputs": [
    {
     "name": "stdout",
     "output_type": "stream",
     "text": [
      "Setup Complete\n"
     ]
    }
   ],
   "source": [
    "# Set up code checking\n",
    "import os\n",
    "if not os.path.exists(\"../input/candy.csv\"):\n",
    "    os.symlink(\"../input/data-for-datavis/candy.csv\", \"../input/candy.csv\") \n",
    "from learntools.core import binder\n",
    "binder.bind(globals())\n",
    "from learntools.data_viz_to_coder.ex4 import *\n",
    "print(\"Setup Complete\")"
   ]
  },
  {
   "cell_type": "markdown",
   "id": "0192566a",
   "metadata": {
    "papermill": {
     "duration": 0.008754,
     "end_time": "2022-10-18T06:24:50.013904",
     "exception": false,
     "start_time": "2022-10-18T06:24:50.005150",
     "status": "completed"
    },
    "tags": []
   },
   "source": [
    "## Step 1: Load the Data\n",
    "\n",
    "Read the candy data file into `candy_data`.  Use the `\"id\"` column to label the rows."
   ]
  },
  {
   "cell_type": "code",
   "execution_count": 3,
   "id": "531464a5",
   "metadata": {
    "execution": {
     "iopub.execute_input": "2022-10-18T06:24:50.034512Z",
     "iopub.status.busy": "2022-10-18T06:24:50.033846Z",
     "iopub.status.idle": "2022-10-18T06:24:50.049344Z",
     "shell.execute_reply": "2022-10-18T06:24:50.048394Z"
    },
    "papermill": {
     "duration": 0.028549,
     "end_time": "2022-10-18T06:24:50.051645",
     "exception": false,
     "start_time": "2022-10-18T06:24:50.023096",
     "status": "completed"
    },
    "tags": []
   },
   "outputs": [
    {
     "data": {
      "application/javascript": [
       "parent.postMessage({\"jupyterEvent\": \"custom.exercise_interaction\", \"data\": {\"outcomeType\": 1, \"valueTowardsCompletion\": 0.3333333333333333, \"interactionType\": 1, \"questionType\": 1, \"questionId\": \"1_LoadData\", \"learnToolsVersion\": \"0.3.4\", \"failureMessage\": \"\", \"exceptionClass\": \"\", \"trace\": \"\"}}, \"*\")"
      ],
      "text/plain": [
       "<IPython.core.display.Javascript object>"
      ]
     },
     "metadata": {},
     "output_type": "display_data"
    },
    {
     "data": {
      "text/markdown": [
       "<span style=\"color:#33cc33\">Correct</span>"
      ],
      "text/plain": [
       "Correct"
      ]
     },
     "metadata": {},
     "output_type": "display_data"
    }
   ],
   "source": [
    "# Path of the file to read\n",
    "candy_filepath = \"../input/candy.csv\"\n",
    "\n",
    "# Fill in the line below to read the file into a variable candy_data\n",
    "candy_data = pd.read_csv(candy_filepath,index_col='id')\n",
    "\n",
    "# Run the line below with no changes to check that you've loaded the data correctly\n",
    "step_1.check()"
   ]
  },
  {
   "cell_type": "code",
   "execution_count": 4,
   "id": "de8a2660",
   "metadata": {
    "execution": {
     "iopub.execute_input": "2022-10-18T06:24:50.072761Z",
     "iopub.status.busy": "2022-10-18T06:24:50.072108Z",
     "iopub.status.idle": "2022-10-18T06:24:50.076266Z",
     "shell.execute_reply": "2022-10-18T06:24:50.075244Z"
    },
    "papermill": {
     "duration": 0.01741,
     "end_time": "2022-10-18T06:24:50.078526",
     "exception": false,
     "start_time": "2022-10-18T06:24:50.061116",
     "status": "completed"
    },
    "tags": []
   },
   "outputs": [],
   "source": [
    "# Lines below will give you a hint or solution code\n",
    "#step_1.hint()\n",
    "#step_1.solution()"
   ]
  },
  {
   "cell_type": "markdown",
   "id": "7dad87a5",
   "metadata": {
    "papermill": {
     "duration": 0.008907,
     "end_time": "2022-10-18T06:24:50.096874",
     "exception": false,
     "start_time": "2022-10-18T06:24:50.087967",
     "status": "completed"
    },
    "tags": []
   },
   "source": [
    "## Step 2: Review the data\n",
    "\n",
    "Use a Python command to print the first five rows of the data."
   ]
  },
  {
   "cell_type": "code",
   "execution_count": 5,
   "id": "ce723489",
   "metadata": {
    "execution": {
     "iopub.execute_input": "2022-10-18T06:24:50.119390Z",
     "iopub.status.busy": "2022-10-18T06:24:50.118248Z",
     "iopub.status.idle": "2022-10-18T06:24:50.143902Z",
     "shell.execute_reply": "2022-10-18T06:24:50.142605Z"
    },
    "papermill": {
     "duration": 0.040133,
     "end_time": "2022-10-18T06:24:50.146406",
     "exception": false,
     "start_time": "2022-10-18T06:24:50.106273",
     "status": "completed"
    },
    "tags": []
   },
   "outputs": [
    {
     "data": {
      "text/html": [
       "<div>\n",
       "<style scoped>\n",
       "    .dataframe tbody tr th:only-of-type {\n",
       "        vertical-align: middle;\n",
       "    }\n",
       "\n",
       "    .dataframe tbody tr th {\n",
       "        vertical-align: top;\n",
       "    }\n",
       "\n",
       "    .dataframe thead th {\n",
       "        text-align: right;\n",
       "    }\n",
       "</style>\n",
       "<table border=\"1\" class=\"dataframe\">\n",
       "  <thead>\n",
       "    <tr style=\"text-align: right;\">\n",
       "      <th></th>\n",
       "      <th>competitorname</th>\n",
       "      <th>chocolate</th>\n",
       "      <th>fruity</th>\n",
       "      <th>caramel</th>\n",
       "      <th>peanutyalmondy</th>\n",
       "      <th>nougat</th>\n",
       "      <th>crispedricewafer</th>\n",
       "      <th>hard</th>\n",
       "      <th>bar</th>\n",
       "      <th>pluribus</th>\n",
       "      <th>sugarpercent</th>\n",
       "      <th>pricepercent</th>\n",
       "      <th>winpercent</th>\n",
       "    </tr>\n",
       "    <tr>\n",
       "      <th>id</th>\n",
       "      <th></th>\n",
       "      <th></th>\n",
       "      <th></th>\n",
       "      <th></th>\n",
       "      <th></th>\n",
       "      <th></th>\n",
       "      <th></th>\n",
       "      <th></th>\n",
       "      <th></th>\n",
       "      <th></th>\n",
       "      <th></th>\n",
       "      <th></th>\n",
       "      <th></th>\n",
       "    </tr>\n",
       "  </thead>\n",
       "  <tbody>\n",
       "    <tr>\n",
       "      <th>0</th>\n",
       "      <td>100 Grand</td>\n",
       "      <td>Yes</td>\n",
       "      <td>No</td>\n",
       "      <td>Yes</td>\n",
       "      <td>No</td>\n",
       "      <td>No</td>\n",
       "      <td>Yes</td>\n",
       "      <td>No</td>\n",
       "      <td>Yes</td>\n",
       "      <td>No</td>\n",
       "      <td>0.732</td>\n",
       "      <td>0.860</td>\n",
       "      <td>66.971725</td>\n",
       "    </tr>\n",
       "    <tr>\n",
       "      <th>1</th>\n",
       "      <td>3 Musketeers</td>\n",
       "      <td>Yes</td>\n",
       "      <td>No</td>\n",
       "      <td>No</td>\n",
       "      <td>No</td>\n",
       "      <td>Yes</td>\n",
       "      <td>No</td>\n",
       "      <td>No</td>\n",
       "      <td>Yes</td>\n",
       "      <td>No</td>\n",
       "      <td>0.604</td>\n",
       "      <td>0.511</td>\n",
       "      <td>67.602936</td>\n",
       "    </tr>\n",
       "    <tr>\n",
       "      <th>2</th>\n",
       "      <td>Air Heads</td>\n",
       "      <td>No</td>\n",
       "      <td>Yes</td>\n",
       "      <td>No</td>\n",
       "      <td>No</td>\n",
       "      <td>No</td>\n",
       "      <td>No</td>\n",
       "      <td>No</td>\n",
       "      <td>No</td>\n",
       "      <td>No</td>\n",
       "      <td>0.906</td>\n",
       "      <td>0.511</td>\n",
       "      <td>52.341465</td>\n",
       "    </tr>\n",
       "    <tr>\n",
       "      <th>3</th>\n",
       "      <td>Almond Joy</td>\n",
       "      <td>Yes</td>\n",
       "      <td>No</td>\n",
       "      <td>No</td>\n",
       "      <td>Yes</td>\n",
       "      <td>No</td>\n",
       "      <td>No</td>\n",
       "      <td>No</td>\n",
       "      <td>Yes</td>\n",
       "      <td>No</td>\n",
       "      <td>0.465</td>\n",
       "      <td>0.767</td>\n",
       "      <td>50.347546</td>\n",
       "    </tr>\n",
       "    <tr>\n",
       "      <th>4</th>\n",
       "      <td>Baby Ruth</td>\n",
       "      <td>Yes</td>\n",
       "      <td>No</td>\n",
       "      <td>Yes</td>\n",
       "      <td>Yes</td>\n",
       "      <td>Yes</td>\n",
       "      <td>No</td>\n",
       "      <td>No</td>\n",
       "      <td>Yes</td>\n",
       "      <td>No</td>\n",
       "      <td>0.604</td>\n",
       "      <td>0.767</td>\n",
       "      <td>56.914547</td>\n",
       "    </tr>\n",
       "  </tbody>\n",
       "</table>\n",
       "</div>"
      ],
      "text/plain": [
       "   competitorname chocolate fruity caramel peanutyalmondy nougat  \\\n",
       "id                                                                 \n",
       "0       100 Grand       Yes     No     Yes             No     No   \n",
       "1    3 Musketeers       Yes     No      No             No    Yes   \n",
       "2       Air Heads        No    Yes      No             No     No   \n",
       "3      Almond Joy       Yes     No      No            Yes     No   \n",
       "4       Baby Ruth       Yes     No     Yes            Yes    Yes   \n",
       "\n",
       "   crispedricewafer hard  bar pluribus  sugarpercent  pricepercent  winpercent  \n",
       "id                                                                              \n",
       "0               Yes   No  Yes       No         0.732         0.860   66.971725  \n",
       "1                No   No  Yes       No         0.604         0.511   67.602936  \n",
       "2                No   No   No       No         0.906         0.511   52.341465  \n",
       "3                No   No  Yes       No         0.465         0.767   50.347546  \n",
       "4                No   No  Yes       No         0.604         0.767   56.914547  "
      ]
     },
     "execution_count": 5,
     "metadata": {},
     "output_type": "execute_result"
    }
   ],
   "source": [
    "# Print the first five rows of the data\n",
    "# Your code here\n",
    "candy_data.head()"
   ]
  },
  {
   "cell_type": "markdown",
   "id": "231529e0",
   "metadata": {
    "papermill": {
     "duration": 0.009158,
     "end_time": "2022-10-18T06:24:50.165076",
     "exception": false,
     "start_time": "2022-10-18T06:24:50.155918",
     "status": "completed"
    },
    "tags": []
   },
   "source": [
    "The dataset contains 83 rows, where each corresponds to a different candy bar.  There are 13 columns:\n",
    "- `'competitorname'` contains the name of the candy bar. \n",
    "- the next **9** columns (from `'chocolate'` to `'pluribus'`) describe the candy.  For instance, rows with chocolate candies have `\"Yes\"` in the `'chocolate'` column (and candies without chocolate have `\"No\"` in the same column).\n",
    "- `'sugarpercent'` provides some indication of the amount of sugar, where higher values signify higher sugar content.\n",
    "- `'pricepercent'` shows the price per unit, relative to the other candies in the dataset.\n",
    "- `'winpercent'` is calculated from the survey results; higher values indicate that the candy was more popular with survey respondents.\n",
    "\n",
    "Use the first five rows of the data to answer the questions below."
   ]
  },
  {
   "cell_type": "code",
   "execution_count": 6,
   "id": "26786105",
   "metadata": {
    "execution": {
     "iopub.execute_input": "2022-10-18T06:24:50.186088Z",
     "iopub.status.busy": "2022-10-18T06:24:50.185668Z",
     "iopub.status.idle": "2022-10-18T06:24:50.195822Z",
     "shell.execute_reply": "2022-10-18T06:24:50.194406Z"
    },
    "papermill": {
     "duration": 0.023496,
     "end_time": "2022-10-18T06:24:50.198226",
     "exception": false,
     "start_time": "2022-10-18T06:24:50.174730",
     "status": "completed"
    },
    "tags": []
   },
   "outputs": [
    {
     "data": {
      "application/javascript": [
       "parent.postMessage({\"jupyterEvent\": \"custom.exercise_interaction\", \"data\": {\"outcomeType\": 1, \"valueTowardsCompletion\": 0.3333333333333333, \"interactionType\": 1, \"questionType\": 1, \"questionId\": \"2_ReviewData\", \"learnToolsVersion\": \"0.3.4\", \"failureMessage\": \"\", \"exceptionClass\": \"\", \"trace\": \"\"}}, \"*\")"
      ],
      "text/plain": [
       "<IPython.core.display.Javascript object>"
      ]
     },
     "metadata": {},
     "output_type": "display_data"
    },
    {
     "data": {
      "text/markdown": [
       "<span style=\"color:#33cc33\">Correct</span>"
      ],
      "text/plain": [
       "Correct"
      ]
     },
     "metadata": {},
     "output_type": "display_data"
    }
   ],
   "source": [
    "# Fill in the line below: Which candy was more popular with survey respondents:\n",
    "# '3 Musketeers' or 'Almond Joy'?  (Please enclose your answer in single quotes.)\n",
    "more_popular = '3 Musketeers'\n",
    "\n",
    "# Fill in the line below: Which candy has higher sugar content: 'Air Heads'\n",
    "# or 'Baby Ruth'? (Please enclose your answer in single quotes.)\n",
    "more_sugar = 'Air Heads'\n",
    "# Check your answers\n",
    "step_2.check()"
   ]
  },
  {
   "cell_type": "code",
   "execution_count": 7,
   "id": "8e5e41a3",
   "metadata": {
    "execution": {
     "iopub.execute_input": "2022-10-18T06:24:50.219406Z",
     "iopub.status.busy": "2022-10-18T06:24:50.218954Z",
     "iopub.status.idle": "2022-10-18T06:24:50.223689Z",
     "shell.execute_reply": "2022-10-18T06:24:50.222763Z"
    },
    "papermill": {
     "duration": 0.017785,
     "end_time": "2022-10-18T06:24:50.225834",
     "exception": false,
     "start_time": "2022-10-18T06:24:50.208049",
     "status": "completed"
    },
    "tags": []
   },
   "outputs": [],
   "source": [
    "# Lines below will give you a hint or solution code\n",
    "#step_2.hint()\n",
    "#step_2.solution()"
   ]
  },
  {
   "cell_type": "markdown",
   "id": "e63612d0",
   "metadata": {
    "papermill": {
     "duration": 0.009673,
     "end_time": "2022-10-18T06:24:50.245425",
     "exception": false,
     "start_time": "2022-10-18T06:24:50.235752",
     "status": "completed"
    },
    "tags": []
   },
   "source": [
    "## Step 3: The role of sugar\n",
    "\n",
    "Do people tend to prefer candies with higher sugar content?  \n",
    "\n",
    "#### Part A\n",
    "\n",
    "Create a scatter plot that shows the relationship between `'sugarpercent'` (on the horizontal x-axis) and `'winpercent'` (on the vertical y-axis).  _Don't add a regression line just yet -- you'll do that in the next step!_"
   ]
  },
  {
   "cell_type": "code",
   "execution_count": 8,
   "id": "b0bdce9b",
   "metadata": {
    "execution": {
     "iopub.execute_input": "2022-10-18T06:24:50.267005Z",
     "iopub.status.busy": "2022-10-18T06:24:50.266610Z",
     "iopub.status.idle": "2022-10-18T06:24:50.574058Z",
     "shell.execute_reply": "2022-10-18T06:24:50.572870Z"
    },
    "papermill": {
     "duration": 0.321048,
     "end_time": "2022-10-18T06:24:50.576401",
     "exception": false,
     "start_time": "2022-10-18T06:24:50.255353",
     "status": "completed"
    },
    "tags": []
   },
   "outputs": [
    {
     "data": {
      "application/javascript": [
       "parent.postMessage({\"jupyterEvent\": \"custom.exercise_interaction\", \"data\": {\"outcomeType\": 1, \"valueTowardsCompletion\": 0.3333333333333333, \"interactionType\": 1, \"questionType\": 2, \"questionId\": \"3.1_PlotBlueScatter\", \"learnToolsVersion\": \"0.3.4\", \"failureMessage\": \"\", \"exceptionClass\": \"\", \"trace\": \"\"}}, \"*\")"
      ],
      "text/plain": [
       "<IPython.core.display.Javascript object>"
      ]
     },
     "metadata": {},
     "output_type": "display_data"
    },
    {
     "data": {
      "text/markdown": [
       "<span style=\"color:#33cc33\">Correct</span>"
      ],
      "text/plain": [
       "Correct"
      ]
     },
     "metadata": {},
     "output_type": "display_data"
    },
    {
     "data": {
      "image/png": "[encoded data removed]",
      "text/plain": [
       "<Figure size 432x288 with 1 Axes>"
      ]
     },
     "metadata": {
      "needs_background": "light"
     },
     "output_type": "display_data"
    }
   ],
   "source": [
    "# Scatter plot showing the relationship between 'sugarpercent' and 'winpercent'\n",
    "# Your code here\n",
    "sns.scatterplot(x=candy_data['sugarpercent'], y=candy_data['winpercent'])\n",
    "# Check your answer\n",
    "step_3.a.check()"
   ]
  },
  {
   "cell_type": "code",
   "execution_count": 9,
   "id": "cd56ac55",
   "metadata": {
    "execution": {
     "iopub.execute_input": "2022-10-18T06:24:50.599431Z",
     "iopub.status.busy": "2022-10-18T06:24:50.598682Z",
     "iopub.status.idle": "2022-10-18T06:24:50.603585Z",
     "shell.execute_reply": "2022-10-18T06:24:50.602213Z"
    },
    "papermill": {
     "duration": 0.01926,
     "end_time": "2022-10-18T06:24:50.606155",
     "exception": false,
     "start_time": "2022-10-18T06:24:50.586895",
     "status": "completed"
    },
    "tags": []
   },
   "outputs": [],
   "source": [
    "# Lines below will give you a hint or solution code\n",
    "#step_3.a.hint()\n",
    "#step_3.a.solution_plot()"
   ]
  },
  {
   "cell_type": "markdown",
   "id": "47371b60",
   "metadata": {
    "papermill": {
     "duration": 0.010246,
     "end_time": "2022-10-18T06:24:50.626886",
     "exception": false,
     "start_time": "2022-10-18T06:24:50.616640",
     "status": "completed"
    },
    "tags": []
   },
   "source": [
    "#### Part B\n",
    "\n",
    "Does the scatter plot show a **strong** correlation between the two variables?  If so, are candies with more sugar relatively more or less popular with the survey respondents?"
   ]
  },
  {
   "cell_type": "code",
   "execution_count": 10,
   "id": "2456f50e",
   "metadata": {
    "execution": {
     "iopub.execute_input": "2022-10-18T06:24:50.649747Z",
     "iopub.status.busy": "2022-10-18T06:24:50.649295Z",
     "iopub.status.idle": "2022-10-18T06:24:50.654155Z",
     "shell.execute_reply": "2022-10-18T06:24:50.653014Z"
    },
    "papermill": {
     "duration": 0.018876,
     "end_time": "2022-10-18T06:24:50.656321",
     "exception": false,
     "start_time": "2022-10-18T06:24:50.637445",
     "status": "completed"
    },
    "tags": []
   },
   "outputs": [],
   "source": [
    "#step_3.b.hint()"
   ]
  },
  {
   "cell_type": "code",
   "execution_count": 11,
   "id": "022ab15e",
   "metadata": {
    "execution": {
     "iopub.execute_input": "2022-10-18T06:24:50.679357Z",
     "iopub.status.busy": "2022-10-18T06:24:50.678177Z",
     "iopub.status.idle": "2022-10-18T06:24:50.688576Z",
     "shell.execute_reply": "2022-10-18T06:24:50.687518Z"
    },
    "papermill": {
     "duration": 0.024036,
     "end_time": "2022-10-18T06:24:50.690702",
     "exception": false,
     "start_time": "2022-10-18T06:24:50.666666",
     "status": "completed"
    },
    "tags": []
   },
   "outputs": [
    {
     "data": {
      "application/javascript": [
       "parent.postMessage({\"jupyterEvent\": \"custom.exercise_interaction\", \"data\": {\"interactionType\": 3, \"questionType\": 4, \"questionId\": \"3.2_ThinkBlueScatter\", \"learnToolsVersion\": \"0.3.4\", \"valueTowardsCompletion\": 0.0, \"failureMessage\": \"\", \"exceptionClass\": \"\", \"trace\": \"\", \"outcomeType\": 4}}, \"*\")"
      ],
      "text/plain": [
       "<IPython.core.display.Javascript object>"
      ]
     },
     "metadata": {},
     "output_type": "display_data"
    },
    {
     "data": {
      "text/markdown": [
       "<span style=\"color:#33cc99\">Solution:</span> The scatter plot does not show a strong correlation between the two variables. Since there is no clear relationship between the two variables, this tells us that sugar content does not play a strong role in candy popularity."
      ],
      "text/plain": [
       "Solution: The scatter plot does not show a strong correlation between the two variables. Since there is no clear relationship between the two variables, this tells us that sugar content does not play a strong role in candy popularity."
      ]
     },
     "metadata": {},
     "output_type": "display_data"
    }
   ],
   "source": [
    "# Check your answer (Run this code cell to receive credit!)\n",
    "step_3.b.solution()"
   ]
  },
  {
   "cell_type": "markdown",
   "id": "2f9a833c",
   "metadata": {
    "papermill": {
     "duration": 0.010167,
     "end_time": "2022-10-18T06:24:50.711506",
     "exception": false,
     "start_time": "2022-10-18T06:24:50.701339",
     "status": "completed"
    },
    "tags": []
   },
   "source": [
    "## Step 4: Take a closer look\n",
    "\n",
    "#### Part A\n",
    "\n",
    "Create the same scatter plot you created in **Step 3**, but now with a regression line!"
   ]
  },
  {
   "cell_type": "code",
   "execution_count": 12,
   "id": "bf3bffb8",
   "metadata": {
    "execution": {
     "iopub.execute_input": "2022-10-18T06:24:50.734668Z",
     "iopub.status.busy": "2022-10-18T06:24:50.734187Z",
     "iopub.status.idle": "2022-10-18T06:24:51.081250Z",
     "shell.execute_reply": "2022-10-18T06:24:51.080389Z"
    },
    "papermill": {
     "duration": 0.361388,
     "end_time": "2022-10-18T06:24:51.083608",
     "exception": false,
     "start_time": "2022-10-18T06:24:50.722220",
     "status": "completed"
    },
    "tags": []
   },
   "outputs": [
    {
     "data": {
      "application/javascript": [
       "parent.postMessage({\"jupyterEvent\": \"custom.exercise_interaction\", \"data\": {\"outcomeType\": 1, \"valueTowardsCompletion\": 0.3333333333333333, \"interactionType\": 1, \"questionType\": 2, \"questionId\": \"4.1_PlotBlueReg\", \"learnToolsVersion\": \"0.3.4\", \"failureMessage\": \"\", \"exceptionClass\": \"\", \"trace\": \"\"}}, \"*\")"
      ],
      "text/plain": [
       "<IPython.core.display.Javascript object>"
      ]
     },
     "metadata": {},
     "output_type": "display_data"
    },
    {
     "data": {
      "text/markdown": [
       "<span style=\"color:#33cc33\">Correct</span>"
      ],
      "text/plain": [
       "Correct"
      ]
     },
     "metadata": {},
     "output_type": "display_data"
    },
    {
     "data": {
      "image/png": "[encoded data removed]",
      "text/plain": [
       "<Figure size 432x288 with 1 Axes>"
      ]
     },
     "metadata": {
      "needs_background": "light"
     },
     "output_type": "display_data"
    }
   ],
   "source": [
    "# Scatter plot w/ regression line showing the relationship between 'sugarpercent' and 'winpercent'\n",
    "# Your code here\n",
    "sns.regplot(x=candy_data['sugarpercent'], y=candy_data['winpercent'])\n",
    "# Check your answer\n",
    "step_4.a.check()"
   ]
  },
  {
   "cell_type": "code",
   "execution_count": 13,
   "id": "8e35575d",
   "metadata": {
    "execution": {
     "iopub.execute_input": "2022-10-18T06:24:51.109030Z",
     "iopub.status.busy": "2022-10-18T06:24:51.107708Z",
     "iopub.status.idle": "2022-10-18T06:24:51.112866Z",
     "shell.execute_reply": "2022-10-18T06:24:51.111725Z"
    },
    "papermill": {
     "duration": 0.020341,
     "end_time": "2022-10-18T06:24:51.115533",
     "exception": false,
     "start_time": "2022-10-18T06:24:51.095192",
     "status": "completed"
    },
    "tags": []
   },
   "outputs": [],
   "source": [
    "# Lines below will give you a hint or solution code\n",
    "#step_4.a.hint()\n",
    "#step_4.a.solution_plot()"
   ]
  },
  {
   "cell_type": "markdown",
   "id": "91c6c279",
   "metadata": {
    "papermill": {
     "duration": 0.01136,
     "end_time": "2022-10-18T06:24:51.138253",
     "exception": false,
     "start_time": "2022-10-18T06:24:51.126893",
     "status": "completed"
    },
    "tags": []
   },
   "source": [
    "#### Part B\n",
    "\n",
    "According to the plot above, is there a **slight** correlation between `'winpercent'` and `'sugarpercent'`?  What does this tell you about the candy that people tend to prefer?"
   ]
  },
  {
   "cell_type": "code",
   "execution_count": 14,
   "id": "be74405b",
   "metadata": {
    "execution": {
     "iopub.execute_input": "2022-10-18T06:24:51.163292Z",
     "iopub.status.busy": "2022-10-18T06:24:51.162110Z",
     "iopub.status.idle": "2022-10-18T06:24:51.167004Z",
     "shell.execute_reply": "2022-10-18T06:24:51.166170Z"
    },
    "papermill": {
     "duration": 0.01955,
     "end_time": "2022-10-18T06:24:51.169176",
     "exception": false,
     "start_time": "2022-10-18T06:24:51.149626",
     "status": "completed"
    },
    "tags": []
   },
   "outputs": [],
   "source": [
    "#step_4.b.hint()"
   ]
  },
  {
   "cell_type": "code",
   "execution_count": 15,
   "id": "04ce57cd",
   "metadata": {
    "execution": {
     "iopub.execute_input": "2022-10-18T06:24:51.194234Z",
     "iopub.status.busy": "2022-10-18T06:24:51.192944Z",
     "iopub.status.idle": "2022-10-18T06:24:51.202557Z",
     "shell.execute_reply": "2022-10-18T06:24:51.201536Z"
    },
    "papermill": {
     "duration": 0.024174,
     "end_time": "2022-10-18T06:24:51.204696",
     "exception": false,
     "start_time": "2022-10-18T06:24:51.180522",
     "status": "completed"
    },
    "tags": []
   },
   "outputs": [
    {
     "data": {
      "application/javascript": [
       "parent.postMessage({\"jupyterEvent\": \"custom.exercise_interaction\", \"data\": {\"interactionType\": 3, \"questionType\": 4, \"questionId\": \"4.2_ThinkBlueReg\", \"learnToolsVersion\": \"0.3.4\", \"valueTowardsCompletion\": 0.0, \"failureMessage\": \"\", \"exceptionClass\": \"\", \"trace\": \"\", \"outcomeType\": 4}}, \"*\")"
      ],
      "text/plain": [
       "<IPython.core.display.Javascript object>"
      ]
     },
     "metadata": {},
     "output_type": "display_data"
    },
    {
     "data": {
      "text/markdown": [
       "<span style=\"color:#33cc99\">Solution:</span> Since the regression line has a slightly positive slope, this tells us that there is a slightly positive correlation between `'winpercent'` and `'sugarpercent'`. Thus, people have a slight preference for candies containing relatively more sugar."
      ],
      "text/plain": [
       "Solution: Since the regression line has a slightly positive slope, this tells us that there is a slightly positive correlation between `'winpercent'` and `'sugarpercent'`. Thus, people have a slight preference for candies containing relatively more sugar."
      ]
     },
     "metadata": {},
     "output_type": "display_data"
    }
   ],
   "source": [
    "# Check your answer (Run this code cell to receive credit!)\n",
    "step_4.b.solution()"
   ]
  },
  {
   "cell_type": "markdown",
   "id": "d57f1216",
   "metadata": {
    "papermill": {
     "duration": 0.010687,
     "end_time": "2022-10-18T06:24:51.226459",
     "exception": false,
     "start_time": "2022-10-18T06:24:51.215772",
     "status": "completed"
    },
    "tags": []
   },
   "source": [
    "## Step 5: Chocolate!\n",
    "\n",
    "In the code cell below, create a scatter plot to show the relationship between `'pricepercent'` (on the horizontal x-axis) and `'winpercent'` (on the vertical y-axis). Use the `'chocolate'` column to color-code the points.  _Don't add any regression lines just yet -- you'll do that in the next step!_"
   ]
  },
  {
   "cell_type": "code",
   "execution_count": 16,
   "id": "528aee06",
   "metadata": {
    "execution": {
     "iopub.execute_input": "2022-10-18T06:24:51.250907Z",
     "iopub.status.busy": "2022-10-18T06:24:51.250199Z",
     "iopub.status.idle": "2022-10-18T06:24:51.531715Z",
     "shell.execute_reply": "2022-10-18T06:24:51.530778Z"
    },
    "papermill": {
     "duration": 0.296527,
     "end_time": "2022-10-18T06:24:51.534082",
     "exception": false,
     "start_time": "2022-10-18T06:24:51.237555",
     "status": "completed"
    },
    "tags": []
   },
   "outputs": [
    {
     "data": {
      "application/javascript": [
       "parent.postMessage({\"jupyterEvent\": \"custom.exercise_interaction\", \"data\": {\"outcomeType\": 1, \"valueTowardsCompletion\": 0.3333333333333333, \"interactionType\": 1, \"questionType\": 2, \"questionId\": \"5_ColorScatter\", \"learnToolsVersion\": \"0.3.4\", \"failureMessage\": \"\", \"exceptionClass\": \"\", \"trace\": \"\"}}, \"*\")"
      ],
      "text/plain": [
       "<IPython.core.display.Javascript object>"
      ]
     },
     "metadata": {},
     "output_type": "display_data"
    },
    {
     "data": {
      "text/markdown": [
       "<span style=\"color:#33cc33\">Correct</span>"
      ],
      "text/plain": [
       "Correct"
      ]
     },
     "metadata": {},
     "output_type": "display_data"
    },
    {
     "data": {
      "image/png": "[encoded data removed]",
      "text/plain": [
       "<Figure size 432x288 with 1 Axes>"
      ]
     },
     "metadata": {
      "needs_background": "light"
     },
     "output_type": "display_data"
    }
   ],
   "source": [
    "# Scatter plot showing the relationship between 'pricepercent', 'winpercent', and 'chocolate'\n",
    "# Your code here\n",
    "sns.scatterplot(x=candy_data['pricepercent'], y=candy_data['winpercent'], hue=candy_data['chocolate'])\n",
    "# Check your answer\n",
    "step_5.check()"
   ]
  },
  {
   "cell_type": "code",
   "execution_count": 17,
   "id": "58ebcd37",
   "metadata": {
    "execution": {
     "iopub.execute_input": "2022-10-18T06:24:51.560147Z",
     "iopub.status.busy": "2022-10-18T06:24:51.559498Z",
     "iopub.status.idle": "2022-10-18T06:24:51.564079Z",
     "shell.execute_reply": "2022-10-18T06:24:51.563220Z"
    },
    "papermill": {
     "duration": 0.020453,
     "end_time": "2022-10-18T06:24:51.566467",
     "exception": false,
     "start_time": "2022-10-18T06:24:51.546014",
     "status": "completed"
    },
    "tags": []
   },
   "outputs": [],
   "source": [
    "# Lines below will give you a hint or solution code\n",
    "#step_5.hint()\n",
    "#step_5.solution_plot()"
   ]
  },
  {
   "cell_type": "markdown",
   "id": "650f2077",
   "metadata": {
    "papermill": {
     "duration": 0.012021,
     "end_time": "2022-10-18T06:24:51.590520",
     "exception": false,
     "start_time": "2022-10-18T06:24:51.578499",
     "status": "completed"
    },
    "tags": []
   },
   "source": [
    "Can you see any interesting patterns in the scatter plot?  We'll investigate this plot further  by adding regression lines in the next step!\n",
    "\n",
    "## Step 6: Investigate chocolate\n",
    "\n",
    "#### Part A\n",
    "\n",
    "Create the same scatter plot you created in **Step 5**, but now with two regression lines, corresponding to (1) chocolate candies and (2) candies without chocolate."
   ]
  },
  {
   "cell_type": "code",
   "execution_count": 18,
   "id": "5f53de0b",
   "metadata": {
    "execution": {
     "iopub.execute_input": "2022-10-18T06:24:51.616484Z",
     "iopub.status.busy": "2022-10-18T06:24:51.615831Z",
     "iopub.status.idle": "2022-10-18T06:24:52.248297Z",
     "shell.execute_reply": "2022-10-18T06:24:52.247375Z"
    },
    "papermill": {
     "duration": 0.648226,
     "end_time": "2022-10-18T06:24:52.250675",
     "exception": false,
     "start_time": "2022-10-18T06:24:51.602449",
     "status": "completed"
    },
    "tags": []
   },
   "outputs": [
    {
     "data": {
      "application/javascript": [
       "parent.postMessage({\"jupyterEvent\": \"custom.exercise_interaction\", \"data\": {\"outcomeType\": 1, \"valueTowardsCompletion\": 0.3333333333333333, \"interactionType\": 1, \"questionType\": 2, \"questionId\": \"6.1_PlotColorReg\", \"learnToolsVersion\": \"0.3.4\", \"failureMessage\": \"\", \"exceptionClass\": \"\", \"trace\": \"\"}}, \"*\")"
      ],
      "text/plain": [
       "<IPython.core.display.Javascript object>"
      ]
     },
     "metadata": {},
     "output_type": "display_data"
    },
    {
     "data": {
      "text/markdown": [
       "<span style=\"color:#33cc33\">Correct</span>"
      ],
      "text/plain": [
       "Correct"
      ]
     },
     "metadata": {},
     "output_type": "display_data"
    },
    {
     "data": {
      "image/png": "[encoded data removed]",
      "text/plain": [
       "<Figure size 416.375x360 with 1 Axes>"
      ]
     },
     "metadata": {
      "needs_background": "light"
     },
     "output_type": "display_data"
    }
   ],
   "source": [
    "# Color-coded scatter plot w/ regression lines\n",
    "# Your code here\n",
    "sns.lmplot(x=\"pricepercent\", y=\"winpercent\", hue=\"chocolate\", data=candy_data)\n",
    "# Check your answer\n",
    "step_6.a.check()"
   ]
  },
  {
   "cell_type": "code",
   "execution_count": 19,
   "id": "32532cf3",
   "metadata": {
    "execution": {
     "iopub.execute_input": "2022-10-18T06:24:52.278198Z",
     "iopub.status.busy": "2022-10-18T06:24:52.276951Z",
     "iopub.status.idle": "2022-10-18T06:24:52.282168Z",
     "shell.execute_reply": "2022-10-18T06:24:52.281370Z"
    },
    "papermill": {
     "duration": 0.021531,
     "end_time": "2022-10-18T06:24:52.284760",
     "exception": false,
     "start_time": "2022-10-18T06:24:52.263229",
     "status": "completed"
    },
    "tags": []
   },
   "outputs": [],
   "source": [
    "# Lines below will give you a hint or solution code\n",
    "#step_6.a.hint()\n",
    "#step_6.a.solution_plot()"
   ]
  },
  {
   "cell_type": "markdown",
   "id": "2e73b5f8",
   "metadata": {
    "papermill": {
     "duration": 0.012081,
     "end_time": "2022-10-18T06:24:52.309297",
     "exception": false,
     "start_time": "2022-10-18T06:24:52.297216",
     "status": "completed"
    },
    "tags": []
   },
   "source": [
    "#### Part B\n",
    "\n",
    "Using the regression lines, what conclusions can you draw about the effects of chocolate and price on candy popularity?"
   ]
  },
  {
   "cell_type": "code",
   "execution_count": 20,
   "id": "4fde797d",
   "metadata": {
    "execution": {
     "iopub.execute_input": "2022-10-18T06:24:52.336367Z",
     "iopub.status.busy": "2022-10-18T06:24:52.335706Z",
     "iopub.status.idle": "2022-10-18T06:24:52.340338Z",
     "shell.execute_reply": "2022-10-18T06:24:52.339498Z"
    },
    "papermill": {
     "duration": 0.02092,
     "end_time": "2022-10-18T06:24:52.342595",
     "exception": false,
     "start_time": "2022-10-18T06:24:52.321675",
     "status": "completed"
    },
    "tags": []
   },
   "outputs": [],
   "source": [
    "#step_6.b.hint()"
   ]
  },
  {
   "cell_type": "code",
   "execution_count": 21,
   "id": "96e66c6c",
   "metadata": {
    "execution": {
     "iopub.execute_input": "2022-10-18T06:24:52.369719Z",
     "iopub.status.busy": "2022-10-18T06:24:52.369029Z",
     "iopub.status.idle": "2022-10-18T06:24:52.379036Z",
     "shell.execute_reply": "2022-10-18T06:24:52.377647Z"
    },
    "papermill": {
     "duration": 0.026994,
     "end_time": "2022-10-18T06:24:52.381963",
     "exception": false,
     "start_time": "2022-10-18T06:24:52.354969",
     "status": "completed"
    },
    "tags": []
   },
   "outputs": [
    {
     "data": {
      "application/javascript": [
       "parent.postMessage({\"jupyterEvent\": \"custom.exercise_interaction\", \"data\": {\"interactionType\": 3, \"questionType\": 4, \"questionId\": \"6.2_ThinkColorReg\", \"learnToolsVersion\": \"0.3.4\", \"valueTowardsCompletion\": 0.0, \"failureMessage\": \"\", \"exceptionClass\": \"\", \"trace\": \"\", \"outcomeType\": 4}}, \"*\")"
      ],
      "text/plain": [
       "<IPython.core.display.Javascript object>"
      ]
     },
     "metadata": {},
     "output_type": "display_data"
    },
    {
     "data": {
      "text/markdown": [
       "<span style=\"color:#33cc99\">Solution:</span> We'll begin with the regression line for chocolate candies. Since this line has a slightly positive slope, we can say that more expensive chocolate candies tend to be more popular (than relatively cheaper chocolate candies).  Likewise, since the regression line for candies without chocolate has a negative slope, we can say that if candies don't contain chocolate, they tend to be more popular when they are cheaper.  One important note, however, is that the dataset is quite small -- so we shouldn't invest too much trust in these patterns!  To inspire more confidence in the results, we should add more candies to the dataset."
      ],
      "text/plain": [
       "Solution: We'll begin with the regression line for chocolate candies. Since this line has a slightly positive slope, we can say that more expensive chocolate candies tend to be more popular (than relatively cheaper chocolate candies).  Likewise, since the regression line for candies without chocolate has a negative slope, we can say that if candies don't contain chocolate, they tend to be more popular when they are cheaper.  One important note, however, is that the dataset is quite small -- so we shouldn't invest too much trust in these patterns!  To inspire more confidence in the results, we should add more candies to the dataset."
      ]
     },
     "metadata": {},
     "output_type": "display_data"
    }
   ],
   "source": [
    "# Check your answer (Run this code cell to receive credit!)\n",
    "step_6.b.solution()"
   ]
  },
  {
   "cell_type": "markdown",
   "id": "70093260",
   "metadata": {
    "papermill": {
     "duration": 0.01239,
     "end_time": "2022-10-18T06:24:52.407146",
     "exception": false,
     "start_time": "2022-10-18T06:24:52.394756",
     "status": "completed"
    },
    "tags": []
   },
   "source": [
    "## Step 7: Everybody loves chocolate.\n",
    "\n",
    "#### Part A\n",
    "\n",
    "Create a categorical scatter plot to highlight the relationship between `'chocolate'` and `'winpercent'`.  Put `'chocolate'` on the (horizontal) x-axis, and `'winpercent'` on the (vertical) y-axis."
   ]
  },
  {
   "cell_type": "code",
   "execution_count": 22,
   "id": "6f696599",
   "metadata": {
    "execution": {
     "iopub.execute_input": "2022-10-18T06:24:52.435940Z",
     "iopub.status.busy": "2022-10-18T06:24:52.435549Z",
     "iopub.status.idle": "2022-10-18T06:24:52.596885Z",
     "shell.execute_reply": "2022-10-18T06:24:52.595718Z"
    },
    "papermill": {
     "duration": 0.179467,
     "end_time": "2022-10-18T06:24:52.599676",
     "exception": false,
     "start_time": "2022-10-18T06:24:52.420209",
     "status": "completed"
    },
    "tags": []
   },
   "outputs": [
    {
     "data": {
      "application/javascript": [
       "parent.postMessage({\"jupyterEvent\": \"custom.exercise_interaction\", \"data\": {\"outcomeType\": 1, \"valueTowardsCompletion\": 0.3333333333333333, \"interactionType\": 1, \"questionType\": 2, \"questionId\": \"7.1_PlotSwarm\", \"learnToolsVersion\": \"0.3.4\", \"failureMessage\": \"\", \"exceptionClass\": \"\", \"trace\": \"\"}}, \"*\")"
      ],
      "text/plain": [
       "<IPython.core.display.Javascript object>"
      ]
     },
     "metadata": {},
     "output_type": "display_data"
    },
    {
     "data": {
      "text/markdown": [
       "<span style=\"color:#33cc33\">Correct</span>"
      ],
      "text/plain": [
       "Correct"
      ]
     },
     "metadata": {},
     "output_type": "display_data"
    },
    {
     "data": {
      "image/png": "[encoded data removed]",
      "text/plain": [
       "<Figure size 432x288 with 1 Axes>"
      ]
     },
     "metadata": {
      "needs_background": "light"
     },
     "output_type": "display_data"
    }
   ],
   "source": [
    "# Scatter plot showing the relationship between 'chocolate' and 'winpercent'\n",
    "____ # Your code here\n",
    "sns.swarmplot(x=candy_data['chocolate'],y=candy_data['winpercent'])\n",
    "# Check your answer\n",
    "step_7.a.check()"
   ]
  },
  {
   "cell_type": "code",
   "execution_count": 23,
   "id": "3df101e8",
   "metadata": {
    "execution": {
     "iopub.execute_input": "2022-10-18T06:24:52.628441Z",
     "iopub.status.busy": "2022-10-18T06:24:52.627976Z",
     "iopub.status.idle": "2022-10-18T06:24:52.633371Z",
     "shell.execute_reply": "2022-10-18T06:24:52.632456Z"
    },
    "papermill": {
     "duration": 0.022341,
     "end_time": "2022-10-18T06:24:52.635679",
     "exception": false,
     "start_time": "2022-10-18T06:24:52.613338",
     "status": "completed"
    },
    "tags": []
   },
   "outputs": [],
   "source": [
    "# Lines below will give you a hint or solution code\n",
    "#step_7.a.hint()\n",
    "#step_7.a.solution_plot()"
   ]
  },
  {
   "cell_type": "markdown",
   "id": "c1d3142e",
   "metadata": {
    "papermill": {
     "duration": 0.013065,
     "end_time": "2022-10-18T06:24:52.662398",
     "exception": false,
     "start_time": "2022-10-18T06:24:52.649333",
     "status": "completed"
    },
    "tags": []
   },
   "source": [
    "#### Part B\n",
    "\n",
    "You decide to dedicate a section of your report to the fact that chocolate candies tend to be more popular than candies without chocolate.  Which plot is more appropriate to tell this story: the plot from **Step 6**, or the plot from **Step 7**?"
   ]
  },
  {
   "cell_type": "code",
   "execution_count": 24,
   "id": "e48c6692",
   "metadata": {
    "execution": {
     "iopub.execute_input": "2022-10-18T06:24:52.691478Z",
     "iopub.status.busy": "2022-10-18T06:24:52.690665Z",
     "iopub.status.idle": "2022-10-18T06:24:52.695620Z",
     "shell.execute_reply": "2022-10-18T06:24:52.694693Z"
    },
    "papermill": {
     "duration": 0.022171,
     "end_time": "2022-10-18T06:24:52.698017",
     "exception": false,
     "start_time": "2022-10-18T06:24:52.675846",
     "status": "completed"
    },
    "tags": []
   },
   "outputs": [],
   "source": [
    "#step_7.b.hint()"
   ]
  },
  {
   "cell_type": "code",
   "execution_count": 25,
   "id": "ce8d2411",
   "metadata": {
    "execution": {
     "iopub.execute_input": "2022-10-18T06:24:52.726882Z",
     "iopub.status.busy": "2022-10-18T06:24:52.726032Z",
     "iopub.status.idle": "2022-10-18T06:24:52.735418Z",
     "shell.execute_reply": "2022-10-18T06:24:52.734529Z"
    },
    "papermill": {
     "duration": 0.026532,
     "end_time": "2022-10-18T06:24:52.737715",
     "exception": false,
     "start_time": "2022-10-18T06:24:52.711183",
     "status": "completed"
    },
    "tags": []
   },
   "outputs": [
    {
     "data": {
      "application/javascript": [
       "parent.postMessage({\"jupyterEvent\": \"custom.exercise_interaction\", \"data\": {\"interactionType\": 3, \"questionType\": 4, \"questionId\": \"7.2_ThinkSwarm\", \"learnToolsVersion\": \"0.3.4\", \"valueTowardsCompletion\": 0.0, \"failureMessage\": \"\", \"exceptionClass\": \"\", \"trace\": \"\", \"outcomeType\": 4}}, \"*\")"
      ],
      "text/plain": [
       "<IPython.core.display.Javascript object>"
      ]
     },
     "metadata": {},
     "output_type": "display_data"
    },
    {
     "data": {
      "text/markdown": [
       "<span style=\"color:#33cc99\">Solution:</span> In this case, the categorical scatter plot from **Step 7** is the more appropriate plot. While both plots tell the desired story, the plot from **Step 6** conveys far more information that could distract from the main point."
      ],
      "text/plain": [
       "Solution: In this case, the categorical scatter plot from **Step 7** is the more appropriate plot. While both plots tell the desired story, the plot from **Step 6** conveys far more information that could distract from the main point."
      ]
     },
     "metadata": {},
     "output_type": "display_data"
    }
   ],
   "source": [
    "# Check your answer (Run this code cell to receive credit!)\n",
    "step_7.b.solution()"
   ]
  },
  {
   "cell_type": "markdown",
   "id": "8d16ab07",
   "metadata": {
    "papermill": {
     "duration": 0.013423,
     "end_time": "2022-10-18T06:24:52.765019",
     "exception": false,
     "start_time": "2022-10-18T06:24:52.751596",
     "status": "completed"
    },
    "tags": []
   },
   "source": [
    "## Keep going\n",
    "\n",
    "Explore **[histograms and density plots](https://www.kaggle.com/alexisbcook/distributions)**."
   ]
  },
  {
   "cell_type": "markdown",
   "id": "629744ef",
   "metadata": {
    "papermill": {
     "duration": 0.013238,
     "end_time": "2022-10-18T06:24:52.791788",
     "exception": false,
     "start_time": "2022-10-18T06:24:52.778550",
     "status": "completed"
    },
    "tags": []
   },
   "source": [
    "---\n",
    "\n",
    "\n",
    "\n",
    "\n",
    "*Have questions or comments? Visit the [course discussion forum](https://www.kaggle.com/learn/data-visualization/discussion) to chat with other learners.*"
   ]
  }
 ],
 "metadata": {
  "kernelspec": {
   "display_name": "Python 3",
   "language": "python",
   "name": "python3"
  },
  "language_info": {
   "codemirror_mode": {
    "name": "ipython",
    "version": 3
   },
   "file_extension": ".py",
   "mimetype": "text/x-python",
   "name": "python",
   "nbconvert_exporter": "python",
   "pygments_lexer": "ipython3",
   "version": "3.7.12"
  },
  "papermill": {
   "default_parameters": {},
   "duration": 16.099172,
   "end_time": "2022-10-18T06:24:53.628579",
   "environment_variables": {},
   "exception": null,
   "input_path": "__notebook__.ipynb",
   "output_path": "__notebook__.ipynb",
   "parameters": {},
   "start_time": "2022-10-18T06:24:37.529407",
   "version": "2.3.4"
  }
 },
 "nbformat": 4,
 "nbformat_minor": 5
}
